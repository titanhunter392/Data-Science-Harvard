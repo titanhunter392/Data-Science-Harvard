{
 "cells": [
  {
   "cell_type": "markdown",
   "metadata": {},
   "source": [
    "# Homework 1"
   ]
  },
  {
   "cell_type": "markdown",
   "metadata": {},
   "source": [
    "### Task 1"
   ]
  },
  {
   "cell_type": "code",
   "execution_count": 4,
   "metadata": {},
   "outputs": [
    {
     "name": "stdout",
     "output_type": "stream",
     "text": [
      "Enter 3 numbers separated by arguments: 3, 7, 2\n",
      "The largest number is: 7\n"
     ]
    }
   ],
   "source": [
    "import sys\n",
    "\n",
    "def max(x):\n",
    "    x = x.split(', ')\n",
    "    x = sorted(x)\n",
    "    print(\"The largest number is: \" + str(x[-1]))\n",
    "\n",
    "a = input('Enter 3 numbers separated by arguments: ')\n",
    "\n",
    "max(a)"
   ]
  },
  {
   "cell_type": "markdown",
   "metadata": {},
   "source": [
    "### Task 2"
   ]
  },
  {
   "cell_type": "code",
   "execution_count": null,
   "metadata": {},
   "outputs": [],
   "source": [
    "import sys\n",
    "\n",
    "def vowel(x):\n",
    "    x = x.lower()\n",
    "    if (x == 'a') or (x == 'e') or (x == 'i') or (x == 'o') or (x == 'u'):\n",
    "        return True\n",
    "    else:\n",
    "        return False\n",
    "    \n",
    "a = input('Enter a character: ')\n",
    "\n",
    "print('The character is a vowel: ' + str(vowel(a)))"
   ]
  },
  {
   "cell_type": "markdown",
   "metadata": {},
   "source": [
    "### Task 3"
   ]
  },
  {
   "cell_type": "code",
   "execution_count": 1,
   "metadata": {},
   "outputs": [
    {
     "name": "stdout",
     "output_type": "stream",
     "text": [
      "Enter a string: radar\n",
      "This string is a palindrome: True\n"
     ]
    }
   ],
   "source": [
    "import sys\n",
    "\n",
    "def isPalindrome(x):\n",
    "    x = x.lower()\n",
    "    y = []\n",
    "    z = []\n",
    "    for i in x:\n",
    "        y.append(i)\n",
    "    #j = len(x) - 1\n",
    "    z = y[::-1]\n",
    "    #while (j > -1):\n",
    "        #z.append(x[j])\n",
    "        #j -= 1\n",
    "    if (y == z):\n",
    "        return True\n",
    "    else:\n",
    "        return False\n",
    "    \n",
    "a = input('Enter a string: ')\n",
    "\n",
    "print('This string is a palindrome: '+ str(isPalindrome(a)))"
   ]
  },
  {
   "cell_type": "markdown",
   "metadata": {},
   "source": [
    "### Task 4"
   ]
  },
  {
   "cell_type": "code",
   "execution_count": 29,
   "metadata": {},
   "outputs": [
    {
     "name": "stdout",
     "output_type": "stream",
     "text": [
      "10\n",
      "24\n"
     ]
    }
   ],
   "source": [
    "def sum(x):\n",
    "    sum = 0\n",
    "    for i in x:\n",
    "        sum += i\n",
    "    return sum\n",
    "\n",
    "def multiply(y):\n",
    "    prod = 1\n",
    "    for j in y:\n",
    "        prod *= j\n",
    "    return prod\n",
    "\n",
    "a = [1,2,3,4]\n",
    "print(sum(a))\n",
    "\n",
    "b = [1,2,3,4]\n",
    "print(multiply(b))\n"
   ]
  },
  {
   "cell_type": "markdown",
   "metadata": {},
   "source": [
    "### Task 5"
   ]
  },
  {
   "cell_type": "code",
   "execution_count": 1,
   "metadata": {},
   "outputs": [
    {
     "name": "stdout",
     "output_type": "stream",
     "text": [
      "Enter a list of words separated by commas: bruh, woah, interesting, no, yes\n",
      "The longest word in the list is: interesting\n"
     ]
    }
   ],
   "source": [
    "import sys\n",
    "\n",
    "def isLongest(x):\n",
    "    x = x.split(', ')\n",
    "    long = x[0]\n",
    "    for i in x:\n",
    "        if (len(i) > len(long)):\n",
    "            long = i\n",
    "    return long\n",
    "\n",
    "a = input('Enter a list of words separated by commas: ')\n",
    "\n",
    "print('The longest word in the list is: ' + str(isLongest(a)))"
   ]
  },
  {
   "cell_type": "markdown",
   "metadata": {},
   "source": [
    "### Task 6"
   ]
  },
  {
   "cell_type": "code",
   "execution_count": 15,
   "metadata": {},
   "outputs": [
    {
     "name": "stdout",
     "output_type": "stream",
     "text": [
      "Caesar cipher? I much prefer Caesar salad!\n"
     ]
    }
   ],
   "source": [
    "import sys\n",
    "\n",
    "key = {'a':'n',\n",
    "       'b':'o',\n",
    "       'c':'p',\n",
    "       'd':'q',\n",
    "       'e':'r',\n",
    "       'f':'s',\n",
    "       'g':'t',\n",
    "       'h':'u',\n",
    "       'i':'v',\n",
    "       'j':'w',\n",
    "       'k':'x', \n",
    "       'l':'y', \n",
    "       'm':'z',\n",
    "       'n':'a',\n",
    "       'o':'b',\n",
    "       'p':'c',\n",
    "       'q':'d',\n",
    "       'r':'e',\n",
    "       's':'f',\n",
    "       't':'g',\n",
    "       'u':'h',\n",
    "       'v':'i',\n",
    "       'w':'j',\n",
    "       'x':'k',\n",
    "       'y':'l',\n",
    "       'z':'m',\n",
    "       'A':'N',\n",
    "       'B':'O',\n",
    "       'C':'P',\n",
    "       'D':'Q',\n",
    "       'E':'R',\n",
    "       'F':'S',\n",
    "       'G':'T', \n",
    "       'H':'U', \n",
    "       'I':'V', \n",
    "       'J':'W', \n",
    "       'K':'X', \n",
    "       'L':'Y', \n",
    "       'M':'Z', \n",
    "       'N':'A',\n",
    "       'O':'B',\n",
    "       'P':'C',\n",
    "       'Q':'D',\n",
    "       'R':'E',\n",
    "       'S':'F',\n",
    "       'T':'G',\n",
    "       'U':'H',\n",
    "       'V':'I',\n",
    "       'W':'J',\n",
    "       'X':'K',\n",
    "       'Y':'L',\n",
    "       'Z':'M',\n",
    "       ' ':' ',\n",
    "       '?':'?',\n",
    "       '!':'!'}\n",
    "\n",
    "def ROT13(x):\n",
    "    i = 0\n",
    "    result = ''\n",
    "    for i in x:\n",
    "        for j in key:\n",
    "            if j == i:\n",
    "                result += key.get(j)\n",
    "    return result\n",
    "\n",
    "a = 'Pnrfne pvcure? V zhpu cersre Pnrfne fnynq!'\n",
    "print(str(ROT13(a)))"
   ]
  }
 ],
 "metadata": {
  "kernelspec": {
   "display_name": "Python 3",
   "language": "python",
   "name": "python3"
  },
  "language_info": {
   "codemirror_mode": {
    "name": "ipython",
    "version": 3
   },
   "file_extension": ".py",
   "mimetype": "text/x-python",
   "name": "python",
   "nbconvert_exporter": "python",
   "pygments_lexer": "ipython3",
   "version": "3.6.4"
  }
 },
 "nbformat": 4,
 "nbformat_minor": 2
}
