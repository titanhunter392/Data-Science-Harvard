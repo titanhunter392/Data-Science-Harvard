{
 "cells": [
  {
   "cell_type": "code",
   "execution_count": 4,
   "metadata": {},
   "outputs": [
    {
     "name": "stdout",
     "output_type": "stream",
     "text": [
      "a equals: 1\n",
      "b equals: 3\n",
      "c equals: 4\n"
     ]
    }
   ],
   "source": [
    "a = 1\n",
    "print('a equals: ' + str(a))\n",
    "\n",
    "b = 3\n",
    "print('b equals: ' + str(b))\n",
    "\n",
    "c = a + b\n",
    "print('c equals: ' + str(c))"
   ]
  },
  {
   "cell_type": "code",
   "execution_count": 6,
   "metadata": {},
   "outputs": [
    {
     "name": "stdout",
     "output_type": "stream",
     "text": [
      "3\n"
     ]
    }
   ],
   "source": [
    "a = 1.5\n",
    "b = 1.5\n",
    "c = a + b\n",
    "print(int(c))"
   ]
  },
  {
   "cell_type": "code",
   "execution_count": 11,
   "metadata": {},
   "outputs": [
    {
     "name": "stdout",
     "output_type": "stream",
     "text": [
      "5\n",
      "6\n",
      "7\n",
      "8\n",
      "\n",
      "5678\n"
     ]
    }
   ],
   "source": [
    "a = [5, 6, 7, 8]\n",
    "\n",
    "d = ''\n",
    "\n",
    "for _ in a:\n",
    "    print(_)\n",
    "    \n",
    "for _ in a:\n",
    "    d += str(_)\n",
    "    \n",
    "print()\n",
    "print(d)"
   ]
  },
  {
   "cell_type": "code",
   "execution_count": 15,
   "metadata": {},
   "outputs": [
    {
     "name": "stdout",
     "output_type": "stream",
     "text": [
      "S F F F \n",
      "F H F F \n",
      "F H H F \n",
      "F F F E \n"
     ]
    }
   ],
   "source": [
    "a = [['S','F','F','F'],['F','H','F','F'], ['F','H','H','F'], ['F','F','F','E']]\n",
    "\n",
    "d = ''\n",
    "\n",
    "for i in a:\n",
    "    for j in i:\n",
    "        d += j + ' '\n",
    "    print(d)\n",
    "    d= ''\n"
   ]
  },
  {
   "cell_type": "code",
   "execution_count": 18,
   "metadata": {},
   "outputs": [],
   "source": [
    "from keras.models import Sequential\n",
    "from keras.layers import Dense, Activation"
   ]
  },
  {
   "cell_type": "code",
   "execution_count": 19,
   "metadata": {},
   "outputs": [],
   "source": [
    "model = Sequential()\n",
    "\n",
    "model.add(Dense(4, input_dim = 4))\n",
    "model.add(Activation('relu'))"
   ]
  },
  {
   "cell_type": "code",
   "execution_count": 20,
   "metadata": {},
   "outputs": [
    {
     "name": "stdout",
     "output_type": "stream",
     "text": [
      "[1, 5, 3, 7, 8]\n",
      "[1, 3, 5, 7, 8]\n",
      "[8, 7, 5, 3, 1]\n"
     ]
    }
   ],
   "source": [
    "z = [1,5,3,7,8]\n",
    "print(z)\n",
    "\n",
    "z.sort()\n",
    "print(z)\n",
    "\n",
    "z.reverse()\n",
    "print(z)"
   ]
  },
  {
   "cell_type": "code",
   "execution_count": null,
   "metadata": {},
   "outputs": [],
   "source": []
  }
 ],
 "metadata": {
  "kernelspec": {
   "display_name": "Python 3",
   "language": "python",
   "name": "python3"
  },
  "language_info": {
   "codemirror_mode": {
    "name": "ipython",
    "version": 3
   },
   "file_extension": ".py",
   "mimetype": "text/x-python",
   "name": "python",
   "nbconvert_exporter": "python",
   "pygments_lexer": "ipython3",
   "version": "3.6.4"
  }
 },
 "nbformat": 4,
 "nbformat_minor": 2
}
